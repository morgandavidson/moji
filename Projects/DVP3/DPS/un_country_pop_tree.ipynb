{
 "cells": [
  {
   "cell_type": "markdown",
   "id": "9c56a582-ad78-4bb8-90d6-b92c6d612613",
   "metadata": {},
   "source": [
    "## Importing and selecting relevant data"
   ]
  },
  {
   "cell_type": "code",
   "execution_count": 1,
   "id": "0f2e64d7-36f9-44bd-acd1-e0fd6eb8d1d6",
   "metadata": {},
   "outputs": [],
   "source": [
    "import pandas as pd\n",
    "df = pd.read_excel('../../Data_sources/World/WPP2022_GEN_F01_DEMOGRAPHIC_INDICATORS_COMPACT_REV1.xlsx',header=16)\n",
    "df = df.loc[df['Year'].isin([2021])]\n",
    "df = df.iloc[:,[2,4,9,10,11]]\n",
    "df = df.drop(df.columns[[3]], axis=1)\n",
    "df.columns = ['child','child_code','parent_code','value']\n",
    "df['value'] = df['value']*1000"
   ]
  },
  {
   "cell_type": "markdown",
   "id": "bccfa089-ad8c-41f3-a3c1-7a367d29c5d5",
   "metadata": {},
   "source": [
    "## Generating hedge list"
   ]
  },
  {
   "cell_type": "code",
   "execution_count": 2,
   "id": "3005bdff-bce4-4d85-9459-cd9b72494f77",
   "metadata": {},
   "outputs": [],
   "source": [
    "df['parent'] = df['parent_code'].map(df.set_index('child_code')['child'])\n",
    "df = df[~df['parent_code'].isin([902,1517])]\n",
    "df = df.dropna(subset=['parent'])\n",
    "df = df.reset_index(drop=True)\n",
    "df = df.iloc[:,[0,4,3]]\n",
    "#df.to_csv(path_or_buf='../DVID/un_country_pop_edgelist_2021.csv', index=False)"
   ]
  },
  {
   "cell_type": "markdown",
   "id": "c27f9307-d269-401e-98da-d8a0fbf13023",
   "metadata": {},
   "source": [
    "## Adding 6 continents nodes manually"
   ]
  },
  {
   "cell_type": "code",
   "execution_count": 3,
   "id": "b09c72a7-05f7-44ca-905e-93acb782f6bd",
   "metadata": {},
   "outputs": [
    {
     "data": {
      "text/html": [
       "<div>\n",
       "<style scoped>\n",
       "    .dataframe tbody tr th:only-of-type {\n",
       "        vertical-align: middle;\n",
       "    }\n",
       "\n",
       "    .dataframe tbody tr th {\n",
       "        vertical-align: top;\n",
       "    }\n",
       "\n",
       "    .dataframe thead th {\n",
       "        text-align: right;\n",
       "    }\n",
       "</style>\n",
       "<table border=\"1\" class=\"dataframe\">\n",
       "  <thead>\n",
       "    <tr style=\"text-align: right;\">\n",
       "      <th></th>\n",
       "      <th>child</th>\n",
       "      <th>parent</th>\n",
       "      <th>value</th>\n",
       "    </tr>\n",
       "  </thead>\n",
       "  <tbody>\n",
       "    <tr>\n",
       "      <th>0</th>\n",
       "      <td>Eastern Africa</td>\n",
       "      <td>AFRICA</td>\n",
       "      <td>455227934.0</td>\n",
       "    </tr>\n",
       "    <tr>\n",
       "      <th>1</th>\n",
       "      <td>Burundi</td>\n",
       "      <td>Eastern Africa</td>\n",
       "      <td>12386556.0</td>\n",
       "    </tr>\n",
       "  </tbody>\n",
       "</table>\n",
       "</div>"
      ],
      "text/plain": [
       "            child          parent        value\n",
       "0  Eastern Africa          AFRICA  455227934.0\n",
       "1         Burundi  Eastern Africa   12386556.0"
      ]
     },
     "execution_count": 3,
     "metadata": {},
     "output_type": "execute_result"
    }
   ],
   "source": [
    "manual = pd.DataFrame({\n",
    "    'child': ['AFRICA','ASIA','EUROPE','LATIN AMERICA AND THE CARIBBEAN','NORTHERN AMERICA','OCEANIA'],\n",
    "    'parent': ['WORLD','WORLD','WORLD','WORLD','WORLD','WORLD'],\n",
    "    'value': [1377285000,4680790000,745853000,654148000,374641000,31715000]\n",
    "})\n",
    "df1 = pd.concat([df, manual], ignore_index=True)\n",
    "df1.head(2)"
   ]
  },
  {
   "cell_type": "markdown",
   "id": "458db795-2e30-4f24-9312-c67b696a4a5f",
   "metadata": {},
   "source": [
    "## Generating a JSON tree according to Echarts format"
   ]
  },
  {
   "cell_type": "code",
   "execution_count": 4,
   "id": "3aa026b5-23e8-43b9-9d5a-4b6506082510",
   "metadata": {},
   "outputs": [],
   "source": [
    "import json\n",
    "import bigtree\n",
    "\n",
    "# Set the parent value for children without parents to ROOT\n",
    "tree = bigtree.dataframe_to_tree_by_relation(df1, child_col = \"child\", parent_col = \"parent\")\n",
    "# Save JSON tree to file JSON file\n",
    "with open('../DVID/un_country_pop_tree_2021.json', 'w') as foo:\n",
    "    json.dump(bigtree.tree_to_nested_dict(tree, all_attrs = True)[\"children\"],foo)\n",
    "# tree.show(all_attrs = True)\n",
    "#print(json.dumps(bigtree.tree_to_nested_dict(tree, all_attrs = True)[\"children\"]))"
   ]
  }
 ],
 "metadata": {
  "kernelspec": {
   "display_name": "Python 3 (ipykernel)",
   "language": "python",
   "name": "python3"
  },
  "language_info": {
   "codemirror_mode": {
    "name": "ipython",
    "version": 3
   },
   "file_extension": ".py",
   "mimetype": "text/x-python",
   "name": "python",
   "nbconvert_exporter": "python",
   "pygments_lexer": "ipython3",
   "version": "3.11.6"
  }
 },
 "nbformat": 4,
 "nbformat_minor": 5
}
