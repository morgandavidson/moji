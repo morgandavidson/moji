{
 "cells": [
  {
   "cell_type": "markdown",
   "id": "41c5f2ab-6b5e-4de4-8f4c-7152d0919ee1",
   "metadata": {
    "jp-MarkdownHeadingCollapsed": true
   },
   "source": [
    "#### Importing tab 1 & tab 2"
   ]
  },
  {
   "cell_type": "code",
   "execution_count": 1,
   "id": "1411a8ad-e6d0-45af-a376-e2f9d31b223d",
   "metadata": {},
   "outputs": [],
   "source": [
    "import pandas as pd\n",
    "dft1 = pd.read_excel('../../Data_sources/World/WPP2022_GEN_F01_DEMOGRAPHIC_INDICATORS_COMPACT_REV1.xlsx',header=16)\n",
    "dft2 = pd.read_excel('../../Data_sources/World/WPP2022_GEN_F01_DEMOGRAPHIC_INDICATORS_COMPACT_REV1.xlsx',header=16,sheet_name='Medium variant')"
   ]
  },
  {
   "cell_type": "markdown",
   "id": "2a866922-13a8-4bc4-b1b5-90edc68c57a0",
   "metadata": {},
   "source": [
    "#### Selecting fertility and births features"
   ]
  },
  {
   "cell_type": "code",
   "execution_count": 2,
   "id": "f9c00164-8fbb-4319-9d81-cc7c1c1e6939",
   "metadata": {},
   "outputs": [],
   "source": [
    "dfp1 = dft1.iloc[:,[2,4,10,23,26]]\n",
    "dfp1.columns = ['region_name','region_code','year','births_in_k','fertility']\n",
    "dfp2 = dft2.iloc[:,[2,4,10,23,26]]\n",
    "dfp2.columns = ['region_name','region_code','year','births_in_k','fertility']"
   ]
  },
  {
   "cell_type": "markdown",
   "id": "b36777a2-42fb-4b3a-93b1-a0f19cdee537",
   "metadata": {},
   "source": [
    "#### Selecting regions"
   ]
  },
  {
   "cell_type": "code",
   "execution_count": 3,
   "id": "2cd62821-0e44-4c17-9b3e-1be0244e2f22",
   "metadata": {},
   "outputs": [],
   "source": [
    "df1 = dfp1.loc[dfp1['region_code'].isin([910,911,912,913,914,5500,906,5501,920,922,923,924,925,926,915,916,931,905,909])]\n",
    "df1 = df1.reset_index(drop=True)\n",
    "df2 = dfp2.loc[dfp2['region_code'].isin([910,911,912,913,914,5500,906,5501,920,922,923,924,925,926,915,916,931,905,909])]\n",
    "df2 = df2.reset_index(drop=True)"
   ]
  },
  {
   "cell_type": "markdown",
   "id": "e6bafeb3-911a-4a7c-9e3e-a00dcae966fa",
   "metadata": {},
   "source": [
    "#### Convert birth in k to birth"
   ]
  },
  {
   "cell_type": "code",
   "execution_count": 4,
   "id": "72d0f079-67b6-4311-958a-f0346e6fc894",
   "metadata": {},
   "outputs": [],
   "source": [
    "df1['births'] = df1['births_in_k']*1000\n",
    "df2['births'] = df2['births_in_k']*1000"
   ]
  },
  {
   "cell_type": "markdown",
   "id": "c7b4d56f-3a67-4c50-aa2e-66786fc055d0",
   "metadata": {},
   "source": [
    "#### Concatenate past and future dataframes"
   ]
  },
  {
   "cell_type": "code",
   "execution_count": 5,
   "id": "23da4aa6-f4c5-4eed-8c47-6299a1dc48c1",
   "metadata": {},
   "outputs": [],
   "source": [
    "df3 = pd.concat([df1, df2], join=\"outer\")"
   ]
  },
  {
   "cell_type": "markdown",
   "id": "93dd73e0-92e9-4eb0-b1b6-0d3b9b4cb89b",
   "metadata": {},
   "source": [
    "#### Rename regions"
   ]
  },
  {
   "cell_type": "code",
   "execution_count": 7,
   "id": "810c24eb-c77c-407f-920b-367190a4b63c",
   "metadata": {},
   "outputs": [
    {
     "name": "stderr",
     "output_type": "stream",
     "text": [
      "/tmp/ipykernel_870076/2299551465.py:1: FutureWarning: Downcasting behavior in `replace` is deprecated and will be removed in a future version. To retain the old behavior, explicitly call `result.infer_objects(copy=False)`. To opt-in to the future behavior, set `pd.set_option('future.no_silent_downcasting', True)`\n",
      "  df3 = df3.replace(['Eastern Africa','Middle Africa','Northern Africa','Southern Africa','Western Africa','Caribbean', 'Central America','NORTHERN AMERICA','South America','Central Asia','Eastern Asia','South-Eastern Asia','Southern Asia','Western Asia','Eastern Europe','Northern Europe','Southern Europe','Western Europe','OCEANIA'],['Africa (Eastern)','Africa (Middle)','Africa (Northern)','Africa (Southern)','Africa (Western)','America (Caribbean)', 'America (Central)','America (Northern)','America (South)','Asia (Central)','Asia (Eastern)','Asia (South-Eastern)','Asia (Southern)','Asia (Western)','Europe (Eastern)','Europe (Northern)','Europe (Southern)','Europe (Western)','Oceania'])\n"
     ]
    }
   ],
   "source": [
    "df3 = df3.replace(['Eastern Africa','Middle Africa','Northern Africa','Southern Africa','Western Africa','Caribbean', 'Central America','NORTHERN AMERICA','South America','Central Asia','Eastern Asia','South-Eastern Asia','Southern Asia','Western Asia','Eastern Europe','Northern Europe','Southern Europe','Western Europe','OCEANIA'],['Africa (Eastern)','Africa (Middle)','Africa (Northern)','Africa (Southern)','Africa (Western)','America (Caribbean)', 'America (Central)','America (Northern)','America (South)','Asia (Central)','Asia (Eastern)','Asia (South-Eastern)','Asia (Southern)','Asia (Western)','Europe (Eastern)','Europe (Northern)','Europe (Southern)','Europe (Western)','Oceania'])"
   ]
  },
  {
   "cell_type": "markdown",
   "id": "71237df8-0328-46b0-9735-759a2f822089",
   "metadata": {},
   "source": [
    "#### Create fertility and births datasets"
   ]
  },
  {
   "cell_type": "code",
   "execution_count": 8,
   "id": "3af58bc3-659a-47f0-ab96-29802f298ec4",
   "metadata": {},
   "outputs": [],
   "source": [
    "fert = df3.drop(columns=['births_in_k','region_code','births'])\n",
    "birt = df3.drop(columns=['births_in_k','region_code','fertility'])"
   ]
  },
  {
   "cell_type": "markdown",
   "id": "5bca31bb-a336-45b3-905b-322cea9dc996",
   "metadata": {},
   "source": [
    "#### Convert datasets to ECharts format"
   ]
  },
  {
   "cell_type": "code",
   "execution_count": 9,
   "id": "0cb2fe3f-545f-474e-8ef2-cb270bde21e4",
   "metadata": {},
   "outputs": [],
   "source": [
    "birt = birt.reset_index().groupby(['region_name', 'year'])['births'].aggregate('first').unstack()\n",
    "birt = birt.reset_index()\n",
    "fert = fert.reset_index().groupby(['region_name', 'year'])['fertility'].aggregate('first').unstack()\n",
    "fert = fert.reset_index()"
   ]
  },
  {
   "cell_type": "markdown",
   "id": "e54cf10b-7973-4557-acbb-e539584cf66c",
   "metadata": {},
   "source": [
    "#### Export datasets to ECharts format"
   ]
  },
  {
   "cell_type": "code",
   "execution_count": 10,
   "id": "de40c29f-58df-4697-b99f-22bf9935cfa0",
   "metadata": {},
   "outputs": [],
   "source": [
    "# Transform df to Echart Dataset format\n",
    "import json\n",
    "content = birt.T.reset_index().T.values.tolist()\n",
    "# Export Echart Dataset (one single line)\n",
    "with open('../DVID/briths.dataset', 'w') as foo:\n",
    "        json.dump(content, foo)\n",
    "content = fert.T.reset_index().T.values.tolist()\n",
    "# Export Echart Dataset (one single line)\n",
    "with open('../DVID/fertility.dataset', 'w') as foo:\n",
    "        json.dump(content, foo)    "
   ]
  }
 ],
 "metadata": {
  "kernelspec": {
   "display_name": "Python 3 (ipykernel)",
   "language": "python",
   "name": "python3"
  },
  "language_info": {
   "codemirror_mode": {
    "name": "ipython",
    "version": 3
   },
   "file_extension": ".py",
   "mimetype": "text/x-python",
   "name": "python",
   "nbconvert_exporter": "python",
   "pygments_lexer": "ipython3",
   "version": "3.11.7"
  }
 },
 "nbformat": 4,
 "nbformat_minor": 5
}
