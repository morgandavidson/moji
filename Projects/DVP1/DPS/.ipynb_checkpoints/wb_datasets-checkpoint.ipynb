{
 "cells": [
  {
   "cell_type": "markdown",
   "id": "8914ccbc-faf5-4a5e-a544-bd7292b1fb76",
   "metadata": {},
   "source": [
    "# Generation of `regions` table"
   ]
  },
  {
   "cell_type": "code",
   "execution_count": 113,
   "id": "84f2ca0e-81af-442e-a943-5867ac855a42",
   "metadata": {},
   "outputs": [],
   "source": [
    "import pandas as pd\n",
    "df = pd.read_csv('https://raw.githubusercontent.com/morgandavidson/moji/main/Projects/Data_sources/World/Population/Metadata_Country_API_SP.POP.TOTL_DS2_en_csv_v2_6298256.csv')\n",
    "df = df.drop(df.columns[[2, 3, 5]], axis=1)"
   ]
  },
  {
   "cell_type": "code",
   "execution_count": 169,
   "id": "a31a8b1b-7252-4d08-bd54-36f1c77eb9e2",
   "metadata": {},
   "outputs": [],
   "source": [
    "regions = df[df['Region'].isnull()]\n",
    "regions = regions.drop(df.columns[[1]], axis=1)\n",
    "regions = regions.rename(columns={\"TableName\": \"Region\", \"Country Code\": \"Code\"})\n",
    "regions = regions.loc[[1,3,36,63,65,133,152,169,203]]\n",
    "regions = regions.reset_index(drop=True)"
   ]
  },
  {
   "cell_type": "markdown",
   "id": "9e07cd9c-24c8-42e6-8f4d-32e0d996168a",
   "metadata": {},
   "source": [
    "# Generation of `population` table"
   ]
  },
  {
   "cell_type": "code",
   "execution_count": 124,
   "id": "25a46211-7906-43cf-8265-75069ea9bf5c",
   "metadata": {},
   "outputs": [],
   "source": [
    "import pandas as pd\n",
    "population = pd.read_csv('https://raw.githubusercontent.com/morgandavidson/moji/main/Projects/Data_sources/World/Population/API_SP.POP.TOTL_DS2_en_csv_v2_6298256.csv', skiprows=4)\n",
    "population = population.drop(population.columns[[0, 2, 3, -1, -2]], axis=1)\n",
    "population = population.rename(columns={\"Country Code\": \"Code\"})\n",
    "population = population.merge(regions, on='Code')\n",
    "population = population.drop(population.columns[[-1]], axis=1)"
   ]
  },
  {
   "cell_type": "markdown",
   "id": "08a4f8d8-40b6-43cb-9f57-88d66117dc75",
   "metadata": {},
   "source": [
    "# Generation of `birth_rate` table"
   ]
  },
  {
   "cell_type": "code",
   "execution_count": 118,
   "id": "d34ec76c-c9c6-4211-aef7-cc988c2e01c6",
   "metadata": {},
   "outputs": [],
   "source": [
    "import pandas as pd\n",
    "birth_rate = pd.read_csv('https://raw.githubusercontent.com/morgandavidson/moji/main/Projects/Data_sources/World/Birth/API_SP.DYN.CBRT.IN_DS2_en_csv_v2_6301675.csv', skiprows=4)\n",
    "birth_rate = birth_rate.drop(birth_rate.columns[[0, 2, 3, -1, -2]], axis=1)\n",
    "birth_rate = birth_rate.rename(columns={\"Country Code\": \"Code\"})\n",
    "birth_rate = birth_rate.merge(regions, on='Code')\n",
    "birth_rate = birth_rate.drop(birth_rate.columns[[-1]], axis=1)"
   ]
  },
  {
   "cell_type": "markdown",
   "id": "34db9319-d297-4025-b389-2ab3e1692860",
   "metadata": {},
   "source": [
    "# Generation of `birth` table"
   ]
  },
  {
   "cell_type": "code",
   "execution_count": 173,
   "id": "6d5a4c0c-30fb-440e-84df-247cf7b4d913",
   "metadata": {},
   "outputs": [],
   "source": [
    "birth = population.iloc[:, 1:] * birth_rate.iloc[:, 1:]/1000\n",
    "birth = pd.concat([regions, birth], axis=1, join=\"inner\")\n",
    "birth.to_csv('birth.csv', index=False) "
   ]
  }
 ],
 "metadata": {
  "kernelspec": {
   "display_name": "Python 3 (ipykernel)",
   "language": "python",
   "name": "python3"
  },
  "language_info": {
   "codemirror_mode": {
    "name": "ipython",
    "version": 3
   },
   "file_extension": ".py",
   "mimetype": "text/x-python",
   "name": "python",
   "nbconvert_exporter": "python",
   "pygments_lexer": "ipython3",
   "version": "3.11.6"
  }
 },
 "nbformat": 4,
 "nbformat_minor": 5
}
