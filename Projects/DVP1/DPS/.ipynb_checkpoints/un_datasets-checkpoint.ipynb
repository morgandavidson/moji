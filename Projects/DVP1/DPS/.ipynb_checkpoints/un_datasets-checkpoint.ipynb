{
 "cells": [
  {
   "cell_type": "markdown",
   "id": "20568d98-e41a-4ec4-a813-124eb3225ba5",
   "metadata": {},
   "source": [
    "## Importing UN dataset"
   ]
  },
  {
   "cell_type": "markdown",
   "id": "1c24b521-eb25-44c2-819a-b5a199f84b2c",
   "metadata": {},
   "source": [
    "#### Tab 1"
   ]
  },
  {
   "cell_type": "code",
   "execution_count": 1,
   "id": "594a5b5c-5205-4914-8705-a8072aaa3e51",
   "metadata": {},
   "outputs": [],
   "source": [
    "import pandas as pd\n",
    "dft1 = pd.read_excel('../../Data_sources/Demography/WPP2022_GEN_F01_DEMOGRAPHIC_INDICATORS_COMPACT_REV1.xlsx',header=16)"
   ]
  },
  {
   "cell_type": "markdown",
   "id": "c420f903-cbfb-4861-807f-0b13d404091a",
   "metadata": {},
   "source": [
    "#### Tab 2"
   ]
  },
  {
   "cell_type": "code",
   "execution_count": 2,
   "id": "d85d6f53-f521-4b6f-8a27-7d307f66de03",
   "metadata": {},
   "outputs": [],
   "source": [
    "dft2 = pd.read_excel('../../Data_sources/Demography/WPP2022_GEN_F01_DEMOGRAPHIC_INDICATORS_COMPACT_REV1.xlsx',header=16,sheet_name='Medium variant')"
   ]
  },
  {
   "cell_type": "markdown",
   "id": "28ee7405-4d71-483c-9876-a8c51f669769",
   "metadata": {},
   "source": [
    "#### Selecting population feature"
   ]
  },
  {
   "cell_type": "code",
   "execution_count": 3,
   "id": "f46cf644-6fca-4acf-8779-cd9e7bf1a0c2",
   "metadata": {},
   "outputs": [],
   "source": [
    "dfp1 = dft1.iloc[:,[2,4,10,11]]\n",
    "dfp1.columns = ['region_name','region_code','year','population_in_k']\n",
    "dfp2 = dft2.iloc[:,[2,4,10,11]]\n",
    "dfp2.columns = ['region_name','region_code','year','population_in_k']"
   ]
  },
  {
   "cell_type": "markdown",
   "id": "b0de3270-ff5b-4c22-9e57-553c2ea31332",
   "metadata": {},
   "source": [
    "## Generating UN continent dataset"
   ]
  },
  {
   "cell_type": "code",
   "execution_count": 4,
   "id": "52723f1f-6d8d-41ea-b531-5e643ba41003",
   "metadata": {},
   "outputs": [],
   "source": [
    "df1 = dfp1.loc[dfp1['region_code'].isin([903,935,908,904,905,909])]\n",
    "df1 = df1.reset_index(drop=True)\n",
    "df1['year'] = df1['year'].astype('Int64')\n",
    "df1['population'] = df1['population_in_k']*1000\n",
    "df1 = df1.reset_index().groupby(['region_name', 'year'])['population'].aggregate('first').unstack()\n",
    "pd.options.display.float_format = '{:.0f}'.format\n",
    "df1 = df1.reset_index()\n",
    "#df1.to_json(path_or_buf='../DVID/un_continent_population.json', orient='records')\n",
    "#df1.to_csv(path_or_buf='../DVID/un_continent_population.csv', index=False)"
   ]
  },
  {
   "cell_type": "markdown",
   "id": "557a180a-23c0-4255-ab1a-53323da44a6e",
   "metadata": {},
   "source": [
    "## Generating UN region dataset"
   ]
  },
  {
   "cell_type": "code",
   "execution_count": 5,
   "id": "f86d63c0-4607-47f0-b1ee-67e0e8c17397",
   "metadata": {},
   "outputs": [],
   "source": [
    "df2 = dfp1.loc[dfp1['region_code'].isin([910,911,912,913,914,5500,906,5501,920,922,923,924,925,926,915,916,931,905,909])]\n",
    "df2 = df2.reset_index(drop=True)\n",
    "#df2.to_json(path_or_buf='../DVID/un_region_population.json', orient='records')\n",
    "#df2.to_csv(path_or_buf='../DVID/un_region_population.csv', index=False)"
   ]
  },
  {
   "cell_type": "markdown",
   "id": "fff19467-dd1e-4798-b3dd-a0dab5e5a71e",
   "metadata": {},
   "source": [
    "## Generating UN continent dataset (future)"
   ]
  },
  {
   "cell_type": "code",
   "execution_count": 6,
   "id": "f353ccd2-8ab5-4b02-bdcb-cbe56733bc91",
   "metadata": {},
   "outputs": [],
   "source": [
    "df3 = dfp2.loc[dfp2['region_code'].isin([903,935,908,904,905,909])]\n",
    "df3 = df3.reset_index(drop=True)\n",
    "df3['year'] = df3['year'].astype('Int64')\n",
    "df3['population'] = df3['population_in_k']*1000\n",
    "df3 = df3.reset_index().groupby(['region_name', 'year'])['population'].aggregate('first').unstack()\n",
    "df3 = df3.reset_index()"
   ]
  },
  {
   "cell_type": "markdown",
   "id": "da4c0229-2786-4d59-8c64-40a24347eb5e",
   "metadata": {},
   "source": [
    "## Generating UN continent dataset (present & future)"
   ]
  },
  {
   "cell_type": "code",
   "execution_count": 7,
   "id": "95311d22-98cd-4987-bace-635bc4f13dd8",
   "metadata": {},
   "outputs": [],
   "source": [
    "df4 = df1.merge(df3, on='region_name')\n",
    "#df4.to_json(path_or_buf='../DVID/un_continent_population_pf.json', orient='records')\n",
    "#df4.to_csv(path_or_buf='../DVID/un_continent_population_pf.csv', index=False)"
   ]
  },
  {
   "cell_type": "markdown",
   "id": "e5c2057f-aeb6-46ce-a922-9d9a6e493ede",
   "metadata": {},
   "source": [
    "## Exporting DataFrame to Echarts dataset format"
   ]
  },
  {
   "cell_type": "code",
   "execution_count": 8,
   "id": "19e6b081-6415-4cc1-9877-2ca58ddb17ce",
   "metadata": {},
   "outputs": [],
   "source": [
    "# Transform df to Echart Dataset format\n",
    "import json\n",
    "content = df4.T.reset_index().T.values.tolist()\n",
    "# Export Echart Dataset (one single line)\n",
    "with open('../DVID/pop_per_con.dataset', 'w') as foo:\n",
    "        json.dump(content, foo)"
   ]
  }
 ],
 "metadata": {
  "kernelspec": {
   "display_name": "Python 3 (ipykernel)",
   "language": "python",
   "name": "python3"
  },
  "language_info": {
   "codemirror_mode": {
    "name": "ipython",
    "version": 3
   },
   "file_extension": ".py",
   "mimetype": "text/x-python",
   "name": "python",
   "nbconvert_exporter": "python",
   "pygments_lexer": "ipython3",
   "version": "3.11.8"
  }
 },
 "nbformat": 4,
 "nbformat_minor": 5
}
