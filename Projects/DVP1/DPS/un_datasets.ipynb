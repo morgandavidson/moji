{
 "cells": [
  {
   "cell_type": "markdown",
   "id": "20568d98-e41a-4ec4-a813-124eb3225ba5",
   "metadata": {},
   "source": [
    "## Importing UN dataset"
   ]
  },
  {
   "cell_type": "code",
   "execution_count": 1,
   "id": "594a5b5c-5205-4914-8705-a8072aaa3e51",
   "metadata": {},
   "outputs": [],
   "source": [
    "import pandas as pd\n",
    "df = pd.read_excel('../../Data_sources/World/WPP2022_GEN_F01_DEMOGRAPHIC_INDICATORS_COMPACT_REV1.xlsx',header=16)\n",
    "df = df.iloc[:,[2,4,10,11]]\n",
    "df.columns = ['region_name','region_code','year','population_in_k']"
   ]
  },
  {
   "cell_type": "markdown",
   "id": "b0de3270-ff5b-4c22-9e57-553c2ea31332",
   "metadata": {},
   "source": [
    "## Generating UN continent dataset"
   ]
  },
  {
   "cell_type": "code",
   "execution_count": 2,
   "id": "52723f1f-6d8d-41ea-b531-5e643ba41003",
   "metadata": {},
   "outputs": [],
   "source": [
    "df1 = df.loc[df['region_code'].isin([903,935,908,904,905,909])]\n",
    "df1 = df1.reset_index(drop=True)\n",
    "df1.to_json(path_or_buf='../DVID/un_continent_population.json', orient='records')\n",
    "df1.to_csv(path_or_buf='../DVID/un_continent_population.csv', index=False)"
   ]
  },
  {
   "cell_type": "markdown",
   "id": "557a180a-23c0-4255-ab1a-53323da44a6e",
   "metadata": {},
   "source": [
    "## Generating UN region dataset"
   ]
  },
  {
   "cell_type": "code",
   "execution_count": 3,
   "id": "f86d63c0-4607-47f0-b1ee-67e0e8c17397",
   "metadata": {},
   "outputs": [],
   "source": [
    "df2 = df.loc[df['region_code'].isin([910,911,912,913,914,5500,906,5501,920,922,923,924,925,926,915,916,931,905,909])]\n",
    "df2 = df2.reset_index(drop=True)\n",
    "df2.to_json(path_or_buf='../DVID/un_region_population.json', orient='records')\n",
    "df2.to_csv(path_or_buf='../DVID/un_region_population.csv', index=False)"
   ]
  }
 ],
 "metadata": {
  "kernelspec": {
   "display_name": "Python 3 (ipykernel)",
   "language": "python",
   "name": "python3"
  },
  "language_info": {
   "codemirror_mode": {
    "name": "ipython",
    "version": 3
   },
   "file_extension": ".py",
   "mimetype": "text/x-python",
   "name": "python",
   "nbconvert_exporter": "python",
   "pygments_lexer": "ipython3",
   "version": "3.11.6"
  }
 },
 "nbformat": 4,
 "nbformat_minor": 5
}
