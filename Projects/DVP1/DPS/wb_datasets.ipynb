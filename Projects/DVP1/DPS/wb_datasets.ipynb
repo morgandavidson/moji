{
 "cells": [
  {
   "cell_type": "markdown",
   "id": "8914ccbc-faf5-4a5e-a544-bd7292b1fb76",
   "metadata": {},
   "source": [
    "# Generation of `wb_population` dataset"
   ]
  },
  {
   "cell_type": "code",
   "execution_count": 1,
   "id": "f416a5dd-7dc6-4927-b719-e0bf6e9a57ae",
   "metadata": {},
   "outputs": [],
   "source": [
    "import pandas as pd\n",
    "df1 = pd.read_csv('https://raw.githubusercontent.com/morgandavidson/moji/main/Projects/Data_sources/World/Population/API_SP.POP.TOTL_DS2_en_csv_v2_6298256.csv', skiprows=4)\n",
    "df1 = df1.loc[df1['Country Code'].isin(['EAS','ECS','LCN','MEA','NAC','SAS','SSF'])]\n",
    "df1 = df1.drop(df1.columns[[1,2,3,-2,-1]], axis=1)\n",
    "df1 = df1.reset_index(drop=True)\n",
    "df1.to_json(path_or_buf='../DVID/wb_population.json', orient='records')"
   ]
  },
  {
   "cell_type": "markdown",
   "id": "d987556f-2213-4e44-a324-6ab84932f681",
   "metadata": {},
   "source": [
    "# Generation of `wb_birth_rate` dataset"
   ]
  },
  {
   "cell_type": "code",
   "execution_count": 2,
   "id": "a31a8b1b-7252-4d08-bd54-36f1c77eb9e2",
   "metadata": {},
   "outputs": [],
   "source": [
    "import pandas as pd\n",
    "df2 = pd.read_csv('https://raw.githubusercontent.com/morgandavidson/moji/main/Projects/Data_sources/World/Birth/API_SP.DYN.CBRT.IN_DS2_en_csv_v2_6301675.csv', skiprows=4)\n",
    "df2 = df2.loc[df2['Country Code'].isin(['EAS','ECS','LCN','MEA','NAC','SAS','SSF'])]\n",
    "df2 = df2.drop(df2.columns[[1,2,3,-2,-1]], axis=1)\n",
    "df2 = df2.reset_index(drop=True)\n",
    "df2.to_json(path_or_buf='../DVID/wb_birth_rate.json', orient='records')"
   ]
  },
  {
   "cell_type": "markdown",
   "id": "34db9319-d297-4025-b389-2ab3e1692860",
   "metadata": {},
   "source": [
    "# Generation of `wb_birth` table"
   ]
  },
  {
   "cell_type": "code",
   "execution_count": 3,
   "id": "1b18656a-a70c-497f-8e11-d0f4e1325cfe",
   "metadata": {},
   "outputs": [],
   "source": [
    "df3 = df1 .iloc[:, 1:] * df2.iloc[:, 1:]/1000\n",
    "df3 = pd.concat([df1['Country Name'], df3], axis=1, join=\"inner\")\n",
    "df3.to_json(path_or_buf='../DVID/wb_birth.json', orient='records')"
   ]
  }
 ],
 "metadata": {
  "kernelspec": {
   "display_name": "Python 3 (ipykernel)",
   "language": "python",
   "name": "python3"
  },
  "language_info": {
   "codemirror_mode": {
    "name": "ipython",
    "version": 3
   },
   "file_extension": ".py",
   "mimetype": "text/x-python",
   "name": "python",
   "nbconvert_exporter": "python",
   "pygments_lexer": "ipython3",
   "version": "3.11.6"
  }
 },
 "nbformat": 4,
 "nbformat_minor": 5
}
